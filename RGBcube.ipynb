{
 "cells": [
  {
   "cell_type": "code",
   "execution_count": null,
   "metadata": {
    "colab": {
     "base_uri": "https://localhost:8080/",
     "height": 562
    },
    "id": "6ulA7vklfU48",
    "outputId": "215c7360-2498-4af6-ac0c-d404174515ea"
   },
   "outputs": [
    {
     "ename": "ModuleNotFoundError",
     "evalue": "No module named 'plotly'",
     "output_type": "error",
     "traceback": [
      "\u001b[0;31m---------------------------------------------------------------------------\u001b[0m",
      "\u001b[0;31mModuleNotFoundError\u001b[0m                       Traceback (most recent call last)",
      "Cell \u001b[0;32mIn[3], line 1\u001b[0m\n\u001b[0;32m----> 1\u001b[0m \u001b[38;5;28;01mimport\u001b[39;00m \u001b[38;5;21;01mplotly\u001b[39;00m\u001b[38;5;21;01m.\u001b[39;00m\u001b[38;5;21;01mgraph_objects\u001b[39;00m \u001b[38;5;28;01mas\u001b[39;00m \u001b[38;5;21;01mgo\u001b[39;00m\n\u001b[1;32m      2\u001b[0m \u001b[38;5;28;01mimport\u001b[39;00m \u001b[38;5;21;01mnumpy\u001b[39;00m \u001b[38;5;28;01mas\u001b[39;00m \u001b[38;5;21;01mnp\u001b[39;00m\n\u001b[1;32m      4\u001b[0m \u001b[38;5;66;03m# Function to convert RGB to Hex\u001b[39;00m\n",
      "\u001b[0;31mModuleNotFoundError\u001b[0m: No module named 'plotly'"
     ]
    }
   ],
   "source": [
    "import plotly.graph_objects as go\n",
    "import numpy as np\n",
    "\n",
    "# Function to convert RGB to Hex\n",
    "def rgb_to_hex(r, g, b):\n",
    "    return f\"#{int(r):02X}{int(g):02X}{int(b):02X}\"\n",
    "\n",
    "# Cube size and resolution\n",
    "cube_size = 255  # RGB range (0-255)\n",
    "resolution = 16  # Number of points per axis\n",
    "\n",
    "# Generate RGB cube points\n",
    "grid = np.linspace(0, cube_size, resolution)\n",
    "x, y, z = np.meshgrid(grid, grid, grid)\n",
    "r, g, b = x / cube_size, y / cube_size, z / cube_size  # Normalize RGB values\n",
    "\n",
    "# Flatten arrays for scatter plot\n",
    "x_flat, y_flat, z_flat = x.flatten(), y.flatten(), z.flatten()\n",
    "\n",
    "# Calculate hex codes for each point\n",
    "hex_codes = [\n",
    "    rgb_to_hex(int(255 * r.flatten()[i]), int(255 * g.flatten()[i]), int(255 * b.flatten()[i]))\n",
    "    for i in range(len(r.flatten()))\n",
    "]\n",
    "\n",
    "# Create the figure\n",
    "fig = go.Figure()\n",
    "\n",
    "# Add the RGB cube with hover displaying RGB coordinates and Hex code\n",
    "fig.add_trace(go.Scatter3d(\n",
    "    x=x_flat, y=y_flat, z=z_flat,\n",
    "    mode='markers',\n",
    "    marker=dict(size=3, color=np.array([r.flatten(), g.flatten(), b.flatten()]).T),\n",
    "    name='RGB Cube',\n",
    "    hovertemplate=\"RGB: (%{x}, %{y}, %{z})<br>Hex: %{text}<extra></extra>\",  # Hover showing RGB coordinates and Hex code\n",
    "    text=hex_codes  # Show hex codes on hover\n",
    "))\n",
    "\n",
    "# Update layout for better visualization\n",
    "fig.update_layout(\n",
    "    title=\"3D RGB Cube with RGB Coordinates and Hex Code on Hover\",\n",
    "    scene=dict(\n",
    "        xaxis_title='X-axis (Red)',\n",
    "        yaxis_title='Y-axis (Green)',\n",
    "        zaxis_title='Z-axis (Blue)',\n",
    "        xaxis=dict(range=[-10, 265]),\n",
    "        yaxis=dict(range=[-10, 265]),\n",
    "        zaxis=dict(range=[-10, 265])\n",
    "    ),\n",
    "    margin=dict(l=0, r=0, b=0, t=40),\n",
    "    showlegend=True\n",
    ")\n",
    "\n",
    "# Show the figure\n",
    "fig.show()\n"
   ]
  },
  {
   "cell_type": "code",
   "execution_count": null,
   "metadata": {},
   "outputs": [],
   "source": []
  }
 ],
 "metadata": {
  "colab": {
   "provenance": []
  },
  "kernelspec": {
   "display_name": "Python (myenv)",
   "language": "python",
   "name": "myenv"
  },
  "language_info": {
   "codemirror_mode": {
    "name": "ipython",
    "version": 3
   },
   "file_extension": ".py",
   "mimetype": "text/x-python",
   "name": "python",
   "nbconvert_exporter": "python",
   "pygments_lexer": "ipython3",
   "version": "3.12.7"
  }
 },
 "nbformat": 4,
 "nbformat_minor": 0
}
